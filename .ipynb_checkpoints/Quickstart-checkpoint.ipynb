{
 "cells": [
  {
   "cell_type": "markdown",
   "id": "3b17e491",
   "metadata": {},
   "source": [
    "# Quick Start"
   ]
  },
  {
   "cell_type": "markdown",
   "id": "7bf83057",
   "metadata": {},
   "source": [
    "https://matplotlib.org/stable/tutorials/introductory/quick_start.html#sphx-glr-tutorials-introductory-quick-start-py"
   ]
  },
  {
   "cell_type": "code",
   "execution_count": 1,
   "id": "43d20157",
   "metadata": {},
   "outputs": [],
   "source": [
    "import matplotlib as mpl\n",
    "import matplotlib.pyplot as plt\n",
    "import numpy as np"
   ]
  },
  {
   "cell_type": "markdown",
   "id": "1c3b9219",
   "metadata": {},
   "source": [
    "Matplotlib graphs data on \n",
    "`Figure`s, each of which contain one or more \n",
    "`axes`, an area where points can be specified (i.e. x,y or theta-r or x-y-z)"
   ]
  },
  {
   "cell_type": "markdown",
   "id": "88c0f6fc",
   "metadata": {},
   "source": [
    "Use `pyplot.subplots` and `Axes.plot` to instantiate a `Figure` with `Axes` and draw on the `Axes`"
   ]
  },
  {
   "cell_type": "code",
   "execution_count": null,
   "id": "ca1a8b46",
   "metadata": {},
   "outputs": [],
   "source": [
    "fig, ax = plt.subplots() # Create a figure containing a single axes\n",
    "x = [1,2,3,4]\n",
    "y = [1,2,4,3]\n",
    "ax.plot(x,y) # Plot data on that axes"
   ]
  },
  {
   "cell_type": "code",
   "execution_count": null,
   "id": "1f8a99ed",
   "metadata": {},
   "outputs": [],
   "source": [
    "print(type(fig))\n",
    "print(type(ax))"
   ]
  },
  {
   "cell_type": "markdown",
   "id": "eda90a09",
   "metadata": {},
   "source": [
    "There's actually a more explicit way to instantiate your Figure and Axes Objects:"
   ]
  },
  {
   "cell_type": "code",
   "execution_count": null,
   "id": "57bac2d7",
   "metadata": {},
   "outputs": [],
   "source": [
    "fig = plt.figure()\n",
    "ax = fig.subplots()\n",
    "ax.plot([1, 2, 3, 4], [0, 0.5, 1, -0.2])"
   ]
  },
  {
   "cell_type": "markdown",
   "id": "65bbc849",
   "metadata": {},
   "source": [
    "## Parts of a Figure\n",
    "\n",
    "![dataform](images/parts_of_figure.png)"
   ]
  },
  {
   "cell_type": "markdown",
   "id": "02a8024b",
   "metadata": {},
   "source": [
    "## Figure\n",
    "\n",
    "The whole figure. The Figure keeps track of all the child `Axes`, a group of 'special' Artists (titles, figure legends, colorbars, etc), and even nested subfigures.\n",
    "\n",
    "The easiest way to create a new Figure is with pyplot:"
   ]
  },
  {
   "cell_type": "code",
   "execution_count": null,
   "id": "271358b8",
   "metadata": {},
   "outputs": [],
   "source": [
    "fig = plt.figure() # empty figure with no axes"
   ]
  },
  {
   "cell_type": "code",
   "execution_count": null,
   "id": "871a7e09",
   "metadata": {},
   "outputs": [],
   "source": [
    "fig, ax = plt.subplots() # a figure with a single axes"
   ]
  },
  {
   "cell_type": "code",
   "execution_count": null,
   "id": "27fb68a9",
   "metadata": {},
   "outputs": [],
   "source": [
    "fig, ax = plt.subplots(2,2) # a figure with a 2x2 grid of axes"
   ]
  },
  {
   "cell_type": "markdown",
   "id": "d79f1a0e",
   "metadata": {},
   "source": [
    "It is often convenient to create the Axes together with the Figure, but you can also manually add Axes later on. Zooming and panning is supported by many backends."
   ]
  },
  {
   "cell_type": "markdown",
   "id": "053bf348",
   "metadata": {},
   "source": [
    "## Axes"
   ]
  },
  {
   "cell_type": "markdown",
   "id": "175a5ade",
   "metadata": {},
   "source": [
    "An `Axes` is an Artist attached to a `Figure` that contains a region for plotting data, and usually includes two (or three in the case of 3D) `Axis` objects (!!!be aware of the difference between Axes and Axis) that provide ticks and tick labels to provide scales for the data in the Axes. Each Axes also has a title (set via `set_title()`), an x-label (set via `set_xlabel()`), and a y-label set via `set_ylabel()`)."
   ]
  },
  {
   "cell_type": "code",
   "execution_count": 3,
   "id": "cc2829ae",
   "metadata": {},
   "outputs": [
    {
     "data": {
      "text/plain": [
       "Text(0, 0.5, 'y-axis')"
      ]
     },
     "execution_count": 3,
     "metadata": {},
     "output_type": "execute_result"
    },
    {
     "data": {
      "image/png": "[encoded data removed]",
      "text/plain": [
       "<Figure size 432x288 with 1 Axes>"
      ]
     },
     "metadata": {
      "needs_background": "light"
     },
     "output_type": "display_data"
    }
   ],
   "source": [
    "plt, ax = plt.subplots() # running this cell twice gives error on second run... why? \"cannot unpack non-iterable subplot\"\n",
    "ax.set_title('Hello Graph!')\n",
    "ax.set_xlabel('x-axis')\n",
    "ax.set_ylabel('y-axis')"
   ]
  },
  {
   "cell_type": "code",
   "execution_count": null,
   "id": "a6b6275e",
   "metadata": {},
   "outputs": [],
   "source": [
    "# does running th above cell twice give error\n",
    "# because there already exists and axes with artists for title and labels?"
   ]
  },
  {
   "cell_type": "markdown",
   "id": "b9a482ac",
   "metadata": {},
   "source": [
    "The `Axes` class and its member functions are the primary entry point to working with the OOP interface, and have most of the plotting methods defined on them (e.g. `ax.plot()`, shown above, uses the plot method)"
   ]
  },
  {
   "cell_type": "markdown",
   "id": "04533e3c",
   "metadata": {},
   "source": [
    "## Axis"
   ]
  },
  {
   "cell_type": "markdown",
   "id": "97a232c7",
   "metadata": {},
   "source": [
    "These objects set the scale and limits and generate ticks (the marks on the `Axis`) and ticklabels (strings labeling the ticks). \n",
    "\n",
    "The location of the ticks is determined by a Locator object and the ticklabel strings are formatted by a Formatter. The combination of the correct Locator and Formatter gives very fine control over the tick locations and labels."
   ]
  },
  {
   "cell_type": "markdown",
   "id": "6ccd5bdd",
   "metadata": {},
   "source": [
    "## Artist"
   ]
  },
  {
   "cell_type": "markdown",
   "id": "5482600d",
   "metadata": {},
   "source": [
    "Basically, everything visible on the Figure is an Artist (even `Figure`, `Axes`, and `Axis` objects). This includes `Text` objects, `Line2D` objects, `collections` objects, `Patch` objects, etc. \n",
    "\n",
    "When the Figure is rendered, all of the Artists are drawn to the canvas. Most Artists are tied to an Axes; such an Artist cannot be shared by multiple Axes, or moved from one to another."
   ]
  },
  {
   "cell_type": "markdown",
   "id": "56fe2f5a",
   "metadata": {},
   "source": [
    "## Types of inputs to plotting functions"
   ]
  },
  {
   "cell_type": "markdown",
   "id": "c4849bb4",
   "metadata": {},
   "source": [
    "Plotting functions expect `numpy.array` or `numpy.ma.masked_array` as input, or objects that can be passed to `numpy.asarray`. Classes that are similar to arrays ('array-like') such as pandas data objects and `numpy.matrix` may not work as intended. Common convention is to convert these to `numpy.array` objects prior to plotting. For example, to convert a numpy.matrix"
   ]
  },
  {
   "cell_type": "code",
   "execution_count": null,
   "id": "adb9e27f",
   "metadata": {},
   "outputs": [],
   "source": [
    "b = np.matrix([[1, 2], [3, 4]])\n",
    "b_asarray = np.asarray(b)"
   ]
  },
  {
   "cell_type": "markdown",
   "id": "0040d4cc",
   "metadata": {},
   "source": [
    "Most methods will also parse an addressable object like a *dict*, a `numpy.recarray`, or a `pandas.DataFrame`. Matplotlib allows you to provide the data keyword argument and generate plots passing the strings corresponding to the x and y variables."
   ]
  },
  {
   "cell_type": "code",
   "execution_count": 6,
   "id": "8cd6df97",
   "metadata": {},
   "outputs": [
    {
     "ename": "TypeError",
     "evalue": "subplots() got an unexpected keyword argument 'figsize'",
     "output_type": "error",
     "traceback": [
      "\u001b[0;31m---------------------------------------------------------------------------\u001b[0m",
      "\u001b[0;31mTypeError\u001b[0m                                 Traceback (most recent call last)",
      "Input \u001b[0;32mIn [6]\u001b[0m, in \u001b[0;36m<cell line: 8>\u001b[0;34m()\u001b[0m\n\u001b[1;32m      5\u001b[0m data[\u001b[38;5;124m'\u001b[39m\u001b[38;5;124mb\u001b[39m\u001b[38;5;124m'\u001b[39m] \u001b[38;5;241m=\u001b[39m data[\u001b[38;5;124m'\u001b[39m\u001b[38;5;124ma\u001b[39m\u001b[38;5;124m'\u001b[39m] \u001b[38;5;241m+\u001b[39m \u001b[38;5;241m10\u001b[39m\u001b[38;5;241m*\u001b[39mnp\u001b[38;5;241m.\u001b[39mrandom\u001b[38;5;241m.\u001b[39mrandn(\u001b[38;5;241m50\u001b[39m)\n\u001b[1;32m      6\u001b[0m data[\u001b[38;5;124m'\u001b[39m\u001b[38;5;124md\u001b[39m\u001b[38;5;124m'\u001b[39m] \u001b[38;5;241m=\u001b[39m np\u001b[38;5;241m.\u001b[39mabs(data[\u001b[38;5;124m'\u001b[39m\u001b[38;5;124md\u001b[39m\u001b[38;5;124m'\u001b[39m]) \u001b[38;5;241m*\u001b[39m \u001b[38;5;241m100\u001b[39m\n\u001b[0;32m----> 8\u001b[0m fig, ax \u001b[38;5;241m=\u001b[39m \u001b[43mplt\u001b[49m\u001b[38;5;241;43m.\u001b[39;49m\u001b[43msubplots\u001b[49m\u001b[43m(\u001b[49m\u001b[43mfigsize\u001b[49m\u001b[38;5;241;43m=\u001b[39;49m\u001b[43m(\u001b[49m\u001b[38;5;241;43m5\u001b[39;49m\u001b[43m,\u001b[49m\u001b[43m \u001b[49m\u001b[38;5;241;43m2.7\u001b[39;49m\u001b[43m)\u001b[49m\u001b[43m,\u001b[49m\u001b[43m \u001b[49m\u001b[43mlayout\u001b[49m\u001b[38;5;241;43m=\u001b[39;49m\u001b[38;5;124;43m'\u001b[39;49m\u001b[38;5;124;43mconstrained\u001b[39;49m\u001b[38;5;124;43m'\u001b[39;49m\u001b[43m)\u001b[49m\n\u001b[1;32m     10\u001b[0m ax\u001b[38;5;241m.\u001b[39mscatter(\u001b[38;5;124m'\u001b[39m\u001b[38;5;124ma\u001b[39m\u001b[38;5;124m'\u001b[39m,\u001b[38;5;124m'\u001b[39m\u001b[38;5;124mb\u001b[39m\u001b[38;5;124m'\u001b[39m, c\u001b[38;5;241m=\u001b[39m\u001b[38;5;124m'\u001b[39m\u001b[38;5;124mc\u001b[39m\u001b[38;5;124m'\u001b[39m, s\u001b[38;5;241m=\u001b[39m\u001b[38;5;124m'\u001b[39m\u001b[38;5;124md\u001b[39m\u001b[38;5;124m'\u001b[39m, data\u001b[38;5;241m=\u001b[39mdata)\n\u001b[1;32m     11\u001b[0m ax\u001b[38;5;241m.\u001b[39mset_xlabel(\u001b[38;5;124m'\u001b[39m\u001b[38;5;124ma entry\u001b[39m\u001b[38;5;124m'\u001b[39m)\n",
      "\u001b[0;31mTypeError\u001b[0m: subplots() got an unexpected keyword argument 'figsize'"
     ]
    }
   ],
   "source": [
    "np.random.seed(152346) # seed the random number generator\n",
    "data = {'a': np.arange(50),\n",
    "        'c': np.random.randint(0,50,50),\n",
    "        'd': np.random.randn(50)}\n",
    "data['b'] = data['a'] + 10*np.random.randn(50)\n",
    "data['d'] = np.abs(data['d']) * 100\n",
    "\n",
    "fig, ax = plt.subplots(figsize=(5, 2.7), layout='constrained')\n",
    "\n",
    "ax.scatter('a','b', c='c', s='d', data=data)\n",
    "ax.set_xlabel('a entry')\n",
    "ax.set_ylabel('b entry')"
   ]
  },
  {
   "cell_type": "code",
   "execution_count": null,
   "id": "6d6257cf",
   "metadata": {},
   "outputs": [],
   "source": [
    "fig = plt.figure()\n",
    "ax = fig.subplots()\n",
    "\n",
    "ax.scatter('a','b', c='c', s='d', data=data)\n",
    "ax.set_xlabel('a entry')\n",
    "ax.set_ylabel('b entry')"
   ]
  },
  {
   "cell_type": "markdown",
   "id": "68683b99",
   "metadata": {},
   "source": [
    "## Coding Styles\n",
    "#### The explicit and implicit interfaces"
   ]
  },
  {
   "cell_type": "markdown",
   "id": "344f5958",
   "metadata": {},
   "source": [
    "As noted above, there are essentially two ways to use Matplotlib:\n",
    "\n",
    "- Explicitly create Figures and Axes, and call methods on them (the \"object-oriented (OO) style\").\n",
    "\n",
    "- Rely on pyplot to implicitly create and manage the Figures and Axes, and use pyplot functions for plotting."
   ]
  },
  {
   "cell_type": "markdown",
   "id": "6f275e20",
   "metadata": {},
   "source": [
    "See Matplotlib [Application Interfaces (APIs)](https://matplotlib.org/stable/users/explain/api_interfaces.html#api-interfaces) for an explanation of the tradeoffs between the implicit and explicit interfaces."
   ]
  },
  {
   "cell_type": "code",
   "execution_count": null,
   "id": "a0bd4c4f",
   "metadata": {},
   "outputs": [],
   "source": [
    "# explicit `Axes` interface\n",
    "fig = plt.figure()\n",
    "ax = fig.subplots()\n",
    "ax.plot([1,2,3,4],[1,-2,4,3])\n",
    "\n",
    "plt.show()"
   ]
  },
  {
   "cell_type": "code",
   "execution_count": null,
   "id": "c731278b",
   "metadata": {},
   "outputs": [],
   "source": [
    "# implitic plotly-handles-it-for-you\n",
    "plt.plot([1,2,3,4],[1,-2,4,3])\n",
    "\n",
    "plt.show()"
   ]
  },
  {
   "cell_type": "markdown",
   "id": "562093df",
   "metadata": {},
   "source": [
    "So, one can use to OO style:"
   ]
  },
  {
   "cell_type": "code",
   "execution_count": 4,
   "id": "88ba0919",
   "metadata": {},
   "outputs": [
    {
     "ename": "TypeError",
     "evalue": "'Figure' object is not callable",
     "output_type": "error",
     "traceback": [
      "\u001b[0;31m---------------------------------------------------------------------------\u001b[0m",
      "\u001b[0;31mTypeError\u001b[0m                                 Traceback (most recent call last)",
      "Input \u001b[0;32mIn [4]\u001b[0m, in \u001b[0;36m<cell line: 4>\u001b[0;34m()\u001b[0m\n\u001b[1;32m      1\u001b[0m x \u001b[38;5;241m=\u001b[39m np\u001b[38;5;241m.\u001b[39mlinspace(\u001b[38;5;241m0\u001b[39m, \u001b[38;5;241m2\u001b[39m, \u001b[38;5;241m100\u001b[39m)  \u001b[38;5;66;03m# Sample data.\u001b[39;00m\n\u001b[1;32m      3\u001b[0m \u001b[38;5;66;03m# Note that even in the OO-style, we use `.pyplot.figure` to create the Figure.\u001b[39;00m\n\u001b[0;32m----> 4\u001b[0m fig \u001b[38;5;241m=\u001b[39m \u001b[43mplt\u001b[49m\u001b[38;5;241;43m.\u001b[39;49m\u001b[43mfigure\u001b[49m\u001b[43m(\u001b[49m\u001b[43mfigsize\u001b[49m\u001b[38;5;241;43m=\u001b[39;49m\u001b[43m(\u001b[49m\u001b[38;5;241;43m5\u001b[39;49m\u001b[43m,\u001b[49m\u001b[43m \u001b[49m\u001b[38;5;241;43m2.7\u001b[39;49m\u001b[43m)\u001b[49m\u001b[43m,\u001b[49m\u001b[43m \u001b[49m\u001b[43mlayout\u001b[49m\u001b[38;5;241;43m=\u001b[39;49m\u001b[38;5;124;43m'\u001b[39;49m\u001b[38;5;124;43mconstrained\u001b[39;49m\u001b[38;5;124;43m'\u001b[39;49m\u001b[43m)\u001b[49m\n\u001b[1;32m      5\u001b[0m ax \u001b[38;5;241m=\u001b[39m fig\u001b[38;5;241m.\u001b[39msubplots()\n\u001b[1;32m      6\u001b[0m ax\u001b[38;5;241m.\u001b[39mplot(x, x, label\u001b[38;5;241m=\u001b[39m\u001b[38;5;124m'\u001b[39m\u001b[38;5;124mlinear\u001b[39m\u001b[38;5;124m'\u001b[39m)  \u001b[38;5;66;03m# Plot some data on the axes.\u001b[39;00m\n",
      "\u001b[0;31mTypeError\u001b[0m: 'Figure' object is not callable"
     ]
    }
   ],
   "source": [
    "x = np.linspace(0, 2, 100)  # Sample data.\n",
    "\n",
    "# Note that even in the OO-style, we use `.pyplot.figure` to create the Figure.\n",
    "fig = plt.figure(figsize=(5, 2.7), layout='constrained')\n",
    "ax = fig.subplots()\n",
    "ax.plot(x, x, label='linear')  # Plot some data on the axes.\n",
    "ax.plot(x, x**2, label='quadratic')  # Plot more data on the axes...\n",
    "ax.plot(x, x**3, label='cubic')  # ... and some more.\n",
    "ax.set_xlabel('x label')  # Add an x-label to the axes.\n",
    "ax.set_ylabel('y label')  # Add a y-label to the axes.\n",
    "ax.set_title(\"Simple Plot\")  # Add a title to the axes.\n",
    "ax.legend()  # Add a legend.\n",
    "\n",
    "plt.show()"
   ]
  },
  {
   "cell_type": "code",
   "execution_count": 5,
   "id": "fab6e419",
   "metadata": {},
   "outputs": [
    {
     "ename": "TypeError",
     "evalue": "subplots() got an unexpected keyword argument 'figsize'",
     "output_type": "error",
     "traceback": [
      "\u001b[0;31m---------------------------------------------------------------------------\u001b[0m",
      "\u001b[0;31mTypeError\u001b[0m                                 Traceback (most recent call last)",
      "Input \u001b[0;32mIn [5]\u001b[0m, in \u001b[0;36m<cell line: 4>\u001b[0;34m()\u001b[0m\n\u001b[1;32m      1\u001b[0m x \u001b[38;5;241m=\u001b[39m np\u001b[38;5;241m.\u001b[39mlinspace(\u001b[38;5;241m0\u001b[39m, \u001b[38;5;241m2\u001b[39m, \u001b[38;5;241m100\u001b[39m)  \u001b[38;5;66;03m# Sample data.\u001b[39;00m\n\u001b[1;32m      3\u001b[0m \u001b[38;5;66;03m# Note that even in the OO-style, we use `.pyplot.figure` to create the Figure.\u001b[39;00m\n\u001b[0;32m----> 4\u001b[0m fig, ax \u001b[38;5;241m=\u001b[39m \u001b[43mplt\u001b[49m\u001b[38;5;241;43m.\u001b[39;49m\u001b[43msubplots\u001b[49m\u001b[43m(\u001b[49m\u001b[43mfigsize\u001b[49m\u001b[38;5;241;43m=\u001b[39;49m\u001b[43m(\u001b[49m\u001b[38;5;241;43m5\u001b[39;49m\u001b[43m,\u001b[49m\u001b[43m \u001b[49m\u001b[38;5;241;43m2.7\u001b[39;49m\u001b[43m)\u001b[49m\u001b[43m,\u001b[49m\u001b[43m \u001b[49m\u001b[43mlayout\u001b[49m\u001b[38;5;241;43m=\u001b[39;49m\u001b[38;5;124;43m'\u001b[39;49m\u001b[38;5;124;43mconstrained\u001b[39;49m\u001b[38;5;124;43m'\u001b[39;49m\u001b[43m)\u001b[49m\n\u001b[1;32m      5\u001b[0m ax\u001b[38;5;241m.\u001b[39mplot(x, x, label\u001b[38;5;241m=\u001b[39m\u001b[38;5;124m'\u001b[39m\u001b[38;5;124mlinear\u001b[39m\u001b[38;5;124m'\u001b[39m)  \u001b[38;5;66;03m# Plot some data on the axes.\u001b[39;00m\n\u001b[1;32m      6\u001b[0m ax\u001b[38;5;241m.\u001b[39mplot(x, x\u001b[38;5;241m*\u001b[39m\u001b[38;5;241m*\u001b[39m\u001b[38;5;241m2\u001b[39m, label\u001b[38;5;241m=\u001b[39m\u001b[38;5;124m'\u001b[39m\u001b[38;5;124mquadratic\u001b[39m\u001b[38;5;124m'\u001b[39m)  \u001b[38;5;66;03m# Plot more data on the axes...\u001b[39;00m\n",
      "\u001b[0;31mTypeError\u001b[0m: subplots() got an unexpected keyword argument 'figsize'"
     ]
    }
   ],
   "source": [
    "x = np.linspace(0, 2, 100)  # Sample data.\n",
    "\n",
    "# Note that even in the OO-style, we use `.pyplot.figure` to create the Figure.\n",
    "fig, ax = plt.subplots(figsize=(5, 2.7), layout='constrained')\n",
    "ax.plot(x, x, label='linear')  # Plot some data on the axes.\n",
    "ax.plot(x, x**2, label='quadratic')  # Plot more data on the axes...\n",
    "ax.plot(x, x**3, label='cubic')  # ... and some more.\n",
    "ax.set_xlabel('x label')  # Add an x-label to the axes.\n",
    "ax.set_ylabel('y label')  # Add a y-label to the axes.\n",
    "ax.set_title(\"Simple Plot\")  # Add a title to the axes.\n",
    "ax.legend()  # Add a legend.\n",
    "\n",
    "plt.show()"
   ]
  },
  {
   "cell_type": "markdown",
   "id": "16c91b14",
   "metadata": {},
   "source": [
    "Or the pyplot style"
   ]
  },
  {
   "cell_type": "code",
   "execution_count": 2,
   "id": "2b12ebd6",
   "metadata": {},
   "outputs": [
    {
     "data": {
      "text/plain": [
       "<matplotlib.legend.Legend at 0x7f7fa8291d30>"
      ]
     },
     "execution_count": 2,
     "metadata": {},
     "output_type": "execute_result"
    },
    {
     "data": {
      "image/png": "[encoded data removed]",
      "text/plain": [
       "<Figure size 360x194.4 with 1 Axes>"
      ]
     },
     "metadata": {
      "needs_background": "light"
     },
     "output_type": "display_data"
    }
   ],
   "source": [
    "x = np.linspace(0, 2, 100)  # Sample data.\n",
    "\n",
    "plt.figure(figsize=(5, 2.7), layout='constrained')\n",
    "plt.plot(x, x, label='linear')  # Plot some data on the (implicit) axes.\n",
    "plt.plot(x, x**2, label='quadratic')  # etc.\n",
    "plt.plot(x, x**3, label='cubic')\n",
    "plt.xlabel('x label')\n",
    "plt.ylabel('y label')\n",
    "plt.title(\"Simple Plot\")\n",
    "plt.legend()"
   ]
  },
  {
   "cell_type": "code",
   "execution_count": null,
   "id": "b55033e4",
   "metadata": {},
   "outputs": [],
   "source": []
  },
  {
   "cell_type": "code",
   "execution_count": null,
   "id": "18f57dcc",
   "metadata": {},
   "outputs": [],
   "source": []
  },
  {
   "cell_type": "code",
   "execution_count": null,
   "id": "fed4b795",
   "metadata": {},
   "outputs": [],
   "source": []
  },
  {
   "cell_type": "code",
   "execution_count": null,
   "id": "f5a1acbb",
   "metadata": {},
   "outputs": [],
   "source": []
  },
  {
   "cell_type": "code",
   "execution_count": null,
   "id": "a5925e73",
   "metadata": {},
   "outputs": [],
   "source": []
  },
  {
   "cell_type": "code",
   "execution_count": null,
   "id": "3b92d50a",
   "metadata": {},
   "outputs": [],
   "source": []
  },
  {
   "cell_type": "code",
   "execution_count": null,
   "id": "91c69e6c",
   "metadata": {},
   "outputs": [],
   "source": []
  },
  {
   "cell_type": "code",
   "execution_count": null,
   "id": "e5b1f5ae",
   "metadata": {},
   "outputs": [],
   "source": []
  }
 ],
 "metadata": {
  "kernelspec": {
   "display_name": "Python 3 (ipykernel)",
   "language": "python",
   "name": "python3"
  },
  "language_info": {
   "codemirror_mode": {
    "name": "ipython",
    "version": 3
   },
   "file_extension": ".py",
   "mimetype": "text/x-python",
   "name": "python",
   "nbconvert_exporter": "python",
   "pygments_lexer": "ipython3",
   "version": "3.9.12"
  }
 },
 "nbformat": 4,
 "nbformat_minor": 5
}
