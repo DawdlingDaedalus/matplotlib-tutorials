{
 "cells": [
  {
   "cell_type": "markdown",
   "id": "906b55a7",
   "metadata": {},
   "source": [
    "# Quick Start"
   ]
  },
  {
   "cell_type": "markdown",
   "id": "800826b0",
   "metadata": {},
   "source": [
    "https://matplotlib.org/stable/tutorials/introductory/quick_start.html#sphx-glr-tutorials-introductory-quick-start-py"
   ]
  },
  {
   "cell_type": "code",
   "execution_count": 1,
   "id": "0d5c333f",
   "metadata": {},
   "outputs": [],
   "source": [
    "import matplotlib as mpl\n",
    "import matplotlib.pyplot as plt\n",
    "import numpy as np"
   ]
  },
  {
   "cell_type": "markdown",
   "id": "048a7c7c",
   "metadata": {},
   "source": [
    "Matplotlib graphs data on \n",
    "`Figure`s, each of which contain one or more \n",
    "`axes`, an area where points can be specified (i.e. x,y or theta-r or x-y-z)"
   ]
  },
  {
   "cell_type": "markdown",
   "id": "f164b927",
   "metadata": {},
   "source": [
    "Use `pyplot.subplots` and `Axes.plot` to instantiate a `Figure` with `Axes` and draw on the `Axes`"
   ]
  },
  {
   "cell_type": "code",
   "execution_count": 26,
   "id": "885a2e7e",
   "metadata": {},
   "outputs": [
    {
     "data": {
      "text/plain": [
       "[<matplotlib.lines.Line2D at 0x7f8ebb4b7a30>]"
      ]
     },
     "execution_count": 26,
     "metadata": {},
     "output_type": "execute_result"
    },
    {
     "data": {
      "image/png": "[encoded data removed]",
      "text/plain": [
       "<Figure size 432x288 with 1 Axes>"
      ]
     },
     "metadata": {
      "needs_background": "light"
     },
     "output_type": "display_data"
    }
   ],
   "source": [
    "fig, ax = plt.subplots() # Create a figure containing a single axes\n",
    "x = [1,2,3,4]\n",
    "y = [1,2,4,3]\n",
    "ax.plot(x,y) # Plot data on that axes"
   ]
  },
  {
   "cell_type": "markdown",
   "id": "88856c3a",
   "metadata": {},
   "source": [
    "## Parts of a Figure\n",
    "\n",
    "![dataform](images/parts_of_figure.png)"
   ]
  },
  {
   "cell_type": "markdown",
   "id": "fe65bf85",
   "metadata": {},
   "source": [
    "## Figure\n",
    "\n",
    "The whole figure. The Figure keeps track of all the child `Axes`, a group of 'special' Artists (titles, figure legends, colorbars, etc), and even nested subfigures.\n",
    "\n",
    "The easiest way to create a new Figure is with pyplot:"
   ]
  },
  {
   "cell_type": "code",
   "execution_count": 12,
   "id": "a9d433af",
   "metadata": {},
   "outputs": [
    {
     "data": {
      "text/plain": [
       "<Figure size 432x288 with 0 Axes>"
      ]
     },
     "metadata": {},
     "output_type": "display_data"
    }
   ],
   "source": [
    "fig = plt.figure() # empty figure with no axes"
   ]
  },
  {
   "cell_type": "code",
   "execution_count": 13,
   "id": "083b8fc9",
   "metadata": {},
   "outputs": [
    {
     "data": {
      "image/png": "[encoded data removed]",
      "text/plain": [
       "<Figure size 432x288 with 1 Axes>"
      ]
     },
     "metadata": {
      "needs_background": "light"
     },
     "output_type": "display_data"
    }
   ],
   "source": [
    "fig, ax = plt.subplots() # a figure with a single axes"
   ]
  },
  {
   "cell_type": "code",
   "execution_count": 14,
   "id": "b0dc5855",
   "metadata": {},
   "outputs": [
    {
     "data": {
      "image/png": "[encoded data removed]",
      "text/plain": [
       "<Figure size 432x288 with 4 Axes>"
      ]
     },
     "metadata": {
      "needs_background": "light"
     },
     "output_type": "display_data"
    }
   ],
   "source": [
    "fig, ax = plt.subplots(2,2) # a figure with a 2x2 grid of axes"
   ]
  },
  {
   "cell_type": "markdown",
   "id": "ccb725dd",
   "metadata": {},
   "source": [
    "It is often convenient to create the Axes together with the Figure, but you can also manually add Axes later on. Zooming and panning is supported by many backends."
   ]
  },
  {
   "cell_type": "markdown",
   "id": "1b251213",
   "metadata": {},
   "source": [
    "## Axes"
   ]
  },
  {
   "cell_type": "markdown",
   "id": "53293236",
   "metadata": {},
   "source": []
  },
  {
   "cell_type": "code",
   "execution_count": null,
   "id": "8ace433f",
   "metadata": {},
   "outputs": [],
   "source": []
  },
  {
   "cell_type": "code",
   "execution_count": null,
   "id": "0f3af1cb",
   "metadata": {},
   "outputs": [],
   "source": []
  },
  {
   "cell_type": "code",
   "execution_count": null,
   "id": "810b6623",
   "metadata": {},
   "outputs": [],
   "source": []
  },
  {
   "cell_type": "code",
   "execution_count": null,
   "id": "cc6ebf12",
   "metadata": {},
   "outputs": [],
   "source": []
  },
  {
   "cell_type": "code",
   "execution_count": null,
   "id": "6f198bc7",
   "metadata": {},
   "outputs": [],
   "source": []
  }
 ],
 "metadata": {
  "kernelspec": {
   "display_name": "Python 3 (ipykernel)",
   "language": "python",
   "name": "python3"
  },
  "language_info": {
   "codemirror_mode": {
    "name": "ipython",
    "version": 3
   },
   "file_extension": ".py",
   "mimetype": "text/x-python",
   "name": "python",
   "nbconvert_exporter": "python",
   "pygments_lexer": "ipython3",
   "version": "3.9.12"
  }
 },
 "nbformat": 4,
 "nbformat_minor": 5
}
