{
 "cells": [
  {
   "cell_type": "markdown",
   "id": "3b17e491",
   "metadata": {},
   "source": [
    "# Quick Start"
   ]
  },
  {
   "cell_type": "markdown",
   "id": "7bf83057",
   "metadata": {},
   "source": [
    "https://matplotlib.org/stable/tutorials/introductory/quick_start.html#sphx-glr-tutorials-introductory-quick-start-py"
   ]
  },
  {
   "cell_type": "code",
   "execution_count": 1,
   "id": "43d20157",
   "metadata": {},
   "outputs": [],
   "source": [
    "import matplotlib as mpl\n",
    "import matplotlib.pyplot as plt\n",
    "import numpy as np"
   ]
  },
  {
   "cell_type": "markdown",
   "id": "1c3b9219",
   "metadata": {},
   "source": [
    "Matplotlib graphs data on \n",
    "`Figure`s, each of which contain one or more \n",
    "`axes`, an area where points can be specified (i.e. x,y or theta-r or x-y-z)"
   ]
  },
  {
   "cell_type": "markdown",
   "id": "88c0f6fc",
   "metadata": {},
   "source": [
    "Use `pyplot.subplots` and `Axes.plot` to instantiate a `Figure` with `Axes` and draw on the `Axes`"
   ]
  },
  {
   "cell_type": "code",
   "execution_count": 2,
   "id": "ca1a8b46",
   "metadata": {},
   "outputs": [
    {
     "data": {
      "text/plain": [
       "[<matplotlib.lines.Line2D at 0x7ff2131c1490>]"
      ]
     },
     "execution_count": 2,
     "metadata": {},
     "output_type": "execute_result"
    },
    {
     "data": {
      "image/png": "[encoded data removed]",
      "text/plain": [
       "<Figure size 432x288 with 1 Axes>"
      ]
     },
     "metadata": {
      "needs_background": "light"
     },
     "output_type": "display_data"
    }
   ],
   "source": [
    "fig, ax = plt.subplots() # Create a figure containing a single axes\n",
    "x = [1,2,3,4]\n",
    "y = [1,2,4,3]\n",
    "ax.plot(x,y) # Plot data on that axes"
   ]
  },
  {
   "cell_type": "markdown",
   "id": "65bbc849",
   "metadata": {},
   "source": [
    "## Parts of a Figure\n",
    "\n",
    "![dataform](images/parts_of_figure.png)"
   ]
  },
  {
   "cell_type": "markdown",
   "id": "02a8024b",
   "metadata": {},
   "source": [
    "## Figure\n",
    "\n",
    "The whole figure. The Figure keeps track of all the child `Axes`, a group of 'special' Artists (titles, figure legends, colorbars, etc), and even nested subfigures.\n",
    "\n",
    "The easiest way to create a new Figure is with pyplot:"
   ]
  },
  {
   "cell_type": "code",
   "execution_count": 3,
   "id": "271358b8",
   "metadata": {},
   "outputs": [
    {
     "data": {
      "text/plain": [
       "<Figure size 432x288 with 0 Axes>"
      ]
     },
     "metadata": {},
     "output_type": "display_data"
    }
   ],
   "source": [
    "fig = plt.figure() # empty figure with no axes"
   ]
  },
  {
   "cell_type": "code",
   "execution_count": 4,
   "id": "871a7e09",
   "metadata": {},
   "outputs": [
    {
     "data": {
      "image/png": "[encoded data removed]",
      "text/plain": [
       "<Figure size 432x288 with 1 Axes>"
      ]
     },
     "metadata": {
      "needs_background": "light"
     },
     "output_type": "display_data"
    }
   ],
   "source": [
    "fig, ax = plt.subplots() # a figure with a single axes"
   ]
  },
  {
   "cell_type": "code",
   "execution_count": 5,
   "id": "27fb68a9",
   "metadata": {},
   "outputs": [
    {
     "data": {
      "image/png": "[encoded data removed]",
      "text/plain": [
       "<Figure size 432x288 with 4 Axes>"
      ]
     },
     "metadata": {
      "needs_background": "light"
     },
     "output_type": "display_data"
    }
   ],
   "source": [
    "fig, ax = plt.subplots(2,2) # a figure with a 2x2 grid of axes"
   ]
  },
  {
   "cell_type": "markdown",
   "id": "d79f1a0e",
   "metadata": {},
   "source": [
    "It is often convenient to create the Axes together with the Figure, but you can also manually add Axes later on. Zooming and panning is supported by many backends."
   ]
  },
  {
   "cell_type": "markdown",
   "id": "053bf348",
   "metadata": {},
   "source": [
    "## Axes"
   ]
  },
  {
   "cell_type": "markdown",
   "id": "175a5ade",
   "metadata": {},
   "source": [
    "An `Axes` is an Artist attached to a `Figure` that contains a region for plotting data, and usually includes two (or three in the case of 3D) `Axis` objects (!!!be aware of the difference between Axes and Axis) that provide ticks and tick labels to provide scales for the data in the Axes. Each Axes also has a title (set via `set_title()`), an x-label (set via `set_xlabel()`), and a y-label set via `set_ylabel()`)."
   ]
  },
  {
   "cell_type": "code",
   "execution_count": 6,
   "id": "cc2829ae",
   "metadata": {},
   "outputs": [
    {
     "data": {
      "text/plain": [
       "Text(0, 0.5, 'y-axis')"
      ]
     },
     "execution_count": 6,
     "metadata": {},
     "output_type": "execute_result"
    },
    {
     "data": {
      "image/png": "[encoded data removed]",
      "text/plain": [
       "<Figure size 432x288 with 1 Axes>"
      ]
     },
     "metadata": {
      "needs_background": "light"
     },
     "output_type": "display_data"
    }
   ],
   "source": [
    "plt, ax = plt.subplots() # running this cell twice gives error on second run... why? \"cannot unpack non-iterable subplot\"\n",
    "ax.set_title('Hello Graph!')\n",
    "ax.set_xlabel('x-axis')\n",
    "ax.set_ylabel('y-axis')"
   ]
  },
  {
   "cell_type": "markdown",
   "id": "b9a482ac",
   "metadata": {},
   "source": [
    "The `Axes` class and its member functions are the primary entry point to working with the OOP interface, and have most of the plotting methods defined on them (e.g. `ax.plot()`, shown above, uses the plot method)"
   ]
  },
  {
   "cell_type": "markdown",
   "id": "04533e3c",
   "metadata": {},
   "source": [
    "## Axis"
   ]
  },
  {
   "cell_type": "markdown",
   "id": "97a232c7",
   "metadata": {},
   "source": [
    "These objects set the scale and limits and generate ticks (the marks on the `Axis`) and ticklabels (strings labeling the ticks). \n",
    "\n",
    "The location of the ticks is determined by a Locator object and the ticklabel strings are formatted by a Formatter. The combination of the correct Locator and Formatter gives very fine control over the tick locations and labels."
   ]
  },
  {
   "cell_type": "markdown",
   "id": "6ccd5bdd",
   "metadata": {},
   "source": [
    "## Artist"
   ]
  },
  {
   "cell_type": "markdown",
   "id": "5482600d",
   "metadata": {},
   "source": [
    "Basically, everything visible on the Figure is an Artist (even `Figure`, `Axes`, and `Axis` objects). This includes `Text` objects, `Line2D` objects, `collections` objects, `Patch` objects, etc. \n",
    "\n",
    "When the Figure is rendered, all of the Artists are drawn to the canvas. Most Artists are tied to an Axes; such an Artist cannot be shared by multiple Axes, or moved from one to another."
   ]
  },
  {
   "cell_type": "markdown",
   "id": "56fe2f5a",
   "metadata": {},
   "source": [
    "## Types of inputs to plotting functions"
   ]
  },
  {
   "cell_type": "markdown",
   "id": "c4849bb4",
   "metadata": {},
   "source": [
    "Plotting functions expect `numpy.array` or `numpy.ma.masked_array` as input, or objects that can be passed to `numpy.asarray`. Classes that are similar to arrays ('array-like') such as pandas data objects and `numpy.matrix` may not work as intended. Common convention is to convert these to `numpy.array` objects prior to plotting. For example, to convert a numpy.matrix"
   ]
  },
  {
   "cell_type": "code",
   "execution_count": 7,
   "id": "adb9e27f",
   "metadata": {},
   "outputs": [],
   "source": [
    "b = np.matrix([[1, 2], [3, 4]])\n",
    "b_asarray = np.asarray(b)"
   ]
  },
  {
   "cell_type": "markdown",
   "id": "0040d4cc",
   "metadata": {},
   "source": [
    "Most methods will also parse an addressable object like a *dict*, a `numpy.recarray`, or a `pandas.DataFrame`. Matplotlib allows you to provide the data keyword argument and generate plots passing the strings corresponding to the x and y variables."
   ]
  },
  {
   "cell_type": "code",
   "execution_count": null,
   "id": "8cd6df97",
   "metadata": {},
   "outputs": [],
   "source": [
    "np.random.seed(152346) # seed the random number generator\n",
    "data = {'a': np.arange(50)}"
   ]
  },
  {
   "cell_type": "code",
   "execution_count": 16,
   "id": "0acadab7",
   "metadata": {},
   "outputs": [],
   "source": [
    "xx = np.random.randn(50)"
   ]
  },
  {
   "cell_type": "code",
   "execution_count": 17,
   "id": "c123eb2b",
   "metadata": {},
   "outputs": [
    {
     "data": {
      "text/plain": [
       "(50,)"
      ]
     },
     "execution_count": 17,
     "metadata": {},
     "output_type": "execute_result"
    }
   ],
   "source": [
    "xx.shape\n"
   ]
  },
  {
   "cell_type": "code",
   "execution_count": null,
   "id": "f0695f3d",
   "metadata": {},
   "outputs": [],
   "source": []
  },
  {
   "cell_type": "code",
   "execution_count": null,
   "id": "88ba0919",
   "metadata": {},
   "outputs": [],
   "source": []
  },
  {
   "cell_type": "code",
   "execution_count": null,
   "id": "fab6e419",
   "metadata": {},
   "outputs": [],
   "source": []
  },
  {
   "cell_type": "code",
   "execution_count": null,
   "id": "11479b0e",
   "metadata": {},
   "outputs": [],
   "source": []
  },
  {
   "cell_type": "code",
   "execution_count": null,
   "id": "2b12ebd6",
   "metadata": {},
   "outputs": [],
   "source": []
  },
  {
   "cell_type": "code",
   "execution_count": null,
   "id": "b55033e4",
   "metadata": {},
   "outputs": [],
   "source": []
  }
 ],
 "metadata": {
  "kernelspec": {
   "display_name": "Python 3 (ipykernel)",
   "language": "python",
   "name": "python3"
  },
  "language_info": {
   "codemirror_mode": {
    "name": "ipython",
    "version": 3
   },
   "file_extension": ".py",
   "mimetype": "text/x-python",
   "name": "python",
   "nbconvert_exporter": "python",
   "pygments_lexer": "ipython3",
   "version": "3.9.12"
  }
 },
 "nbformat": 4,
 "nbformat_minor": 5
}
